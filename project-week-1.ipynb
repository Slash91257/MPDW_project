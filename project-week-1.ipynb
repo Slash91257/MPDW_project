{
 "cells": [
  {
   "cell_type": "markdown",
   "metadata": {},
   "source": [
    "# Project Week 1: ActivityNet Video Data Preparation and Indexing\n",
    "\n",
    "In this example we will use the ActivityNet dataset https://github.com/activitynet/ActivityNet. \n",
    "\n",
    " - Select the 10 videos with more moments.\n",
    " - Download these videos onto your computer.\n",
    " - Extract the frames for every video.\n",
    " - Read the textual descriptions of each video.\n",
    " - Index the video data in OpenSearch.\n",
    "\n",
    " In this week, you will index the video data and make it searchable with OpenSearch. You should refer to the OpenSearch tutorial laboratory."
   ]
  },
  {
   "cell_type": "markdown",
   "metadata": {},
   "source": [
    "## Select videos\n",
    "Download the `activity_net.v1-3.min.json` file containing the list of videos. The file is in the github repository of ActivityNet.\n",
    "Parse this file and select the 10 videos with more moments."
   ]
  },
  {
   "cell_type": "code",
   "execution_count": 4,
   "metadata": {},
   "outputs": [
    {
     "name": "stdout",
     "output_type": "stream",
     "text": [
      "[{'video_id': 'o1WPnnvs00I', 'num_moments': 23, 'url': 'https://www.youtube.com/watch?v=o1WPnnvs00I', 'duration': 229.86}, {'video_id': 'oGwn4NUeoy8', 'num_moments': 23, 'url': 'https://www.youtube.com/watch?v=oGwn4NUeoy8', 'duration': 153.09}, {'video_id': 'VEDRmPt_-Ms', 'num_moments': 20, 'url': 'https://www.youtube.com/watch?v=VEDRmPt_-Ms', 'duration': 232.07999999999998}, {'video_id': 'qF3EbR8y8go', 'num_moments': 19, 'url': 'https://www.youtube.com/watch?v=qF3EbR8y8go', 'duration': 204.1}, {'video_id': 'DLJqhYP-C0k', 'num_moments': 18, 'url': 'https://www.youtube.com/watch?v=DLJqhYP-C0k', 'duration': 186.968}, {'video_id': 't6f_O8a4sSg', 'num_moments': 18, 'url': 'https://www.youtube.com/watch?v=t6f_O8a4sSg', 'duration': 218.52}, {'video_id': '6gyD-Mte2ZM', 'num_moments': 18, 'url': 'https://www.youtube.com/watch?v=6gyD-Mte2ZM', 'duration': 188.245}, {'video_id': 'jBvGvVw3R-Q', 'num_moments': 18, 'url': 'https://www.youtube.com/watch?v=jBvGvVw3R-Q', 'duration': 218.62}, {'video_id': 'PJ72Yl0B1rY', 'num_moments': 17, 'url': 'https://www.youtube.com/watch?v=PJ72Yl0B1rY', 'duration': 206.332}, {'video_id': 'QHn9KyE-zZo', 'num_moments': 17, 'url': 'https://www.youtube.com/watch?v=QHn9KyE-zZo', 'duration': 196.279}, {'video_id': '9-yueOtwiL8', 'num_moments': 17, 'url': 'https://www.youtube.com/watch?v=9-yueOtwiL8', 'duration': 230.69}]\n"
     ]
    }
   ],
   "source": [
    "import json\n",
    "from pprint import pprint\n",
    "import subprocess\n",
    "\n",
    "with open('activity_net.v1-3.min.json', 'r') as json_data:\n",
    "    data = json.load(json_data)\n",
    "    video_annotations = [\n",
    "    {\n",
    "        \"video_id\": vid,\n",
    "        \"num_moments\": len(details[\"annotations\"]),\n",
    "        \"url\": details[\"url\"],\n",
    "        \"duration\": details[\"duration\"]\n",
    "    }\n",
    "    for vid, details in data[\"database\"].items()\n",
    "    ]\n",
    "    top_videos = sorted(video_annotations, key=lambda x: x[\"num_moments\"], reverse=True)[:11]\n",
    "    \n",
    "    print(top_videos)\n",
    "    #for video in top_videos:\n",
    "        #subprocess.run([\"yt-dlp\", \"-f\", \"best\", video['url']])\n",
    "\n"
   ]
  },
  {
   "cell_type": "code",
   "execution_count": 5,
   "metadata": {},
   "outputs": [
    {
     "name": "stdout",
     "output_type": "stream",
     "text": [
      "[{'video_id': 'o1WPnnvs00I', 'num_moments': 23, 'url': 'https://www.youtube.com/watch?v=o1WPnnvs00I', 'duration': 229.86, 'sentences': ['A man is playing a flute in front of a microphone.', ' A few other men are shown playing guitars as they sit.', ' The group plays for the audience, occasionally zooming in on individuals.', ' One man is playing drums while the others are on flute and guitar.', ' The lights move fluidly as they crescendo, and they screen goes black.']}, {'video_id': 'oGwn4NUeoy8', 'num_moments': 23, 'url': 'https://www.youtube.com/watch?v=oGwn4NUeoy8', 'duration': 153.09, 'sentences': ['A small group of people are seen on a stage getting their instruments ready.', ' A woman begins playing the drums while another plays piano and the others watch.', ' The two continue to play their instruments and others on the side watch.']}, {'video_id': 'VEDRmPt_-Ms', 'num_moments': 20, 'url': 'https://www.youtube.com/watch?v=VEDRmPt_-Ms', 'duration': 232.07999999999998, 'sentences': ['women are in a gymnastics competition doing high jumps in a roofed gym with a lot of people gathered around them watching them.', ' participants are on the podium receiveng thei medals.']}, {'video_id': 'qF3EbR8y8go', 'num_moments': 19, 'url': 'https://www.youtube.com/watch?v=qF3EbR8y8go', 'duration': 204.1, 'sentences': ['woman is painting in a white paper green leaves in a chinese tree.', ' a red paint is shown and woman put a stamp on the corner of the paper.', ' woman is painting a blue ad purple chinese flower.', ' a red and black flowers are painted on a white paper with very detail for the same woman in a dark room.', ' woman used some black painting for make details, put the red stamp on the corner and finished the painting with yellow and reddetails on the flowers.']}, {'video_id': 'DLJqhYP-C0k', 'num_moments': 18, 'url': 'https://www.youtube.com/watch?v=DLJqhYP-C0k', 'duration': 186.968, 'sentences': ['The opening credits are shown for a video about bowling.', ' The video then shows several bowlers doing bowling tricks at a bowling alley.', ' A credit comes onto the screen introducing the grad finale trick.', ' A man throws the ball and simultaneously throws himself down the alley as well.', ' The closing credits then com onto the screen to end the video.']}, {'video_id': 't6f_O8a4sSg', 'num_moments': 18, 'url': 'https://www.youtube.com/watch?v=t6f_O8a4sSg', 'duration': 218.52, 'sentences': []}, {'video_id': '6gyD-Mte2ZM', 'num_moments': 18, 'url': 'https://www.youtube.com/watch?v=6gyD-Mte2ZM', 'duration': 188.245, 'sentences': []}, {'video_id': 'jBvGvVw3R-Q', 'num_moments': 18, 'url': 'https://www.youtube.com/watch?v=jBvGvVw3R-Q', 'duration': 218.62, 'sentences': ['A man is standing in a gym preparing to lift a set of weights placed on a bar.', 'Next the screen  flashes to a younger male jerking and then drops the bar on the ground.', 'Several more people are shown lifting weights and dropping them on the ground.', 'The man begins to dance as he lifts and drops the bar and the continuation of weightlifting is repeated.', 'After,the men continue walking around the gym eating a protein bar.']}, {'video_id': 'PJ72Yl0B1rY', 'num_moments': 17, 'url': 'https://www.youtube.com/watch?v=PJ72Yl0B1rY', 'duration': 206.332, 'sentences': []}, {'video_id': 'QHn9KyE-zZo', 'num_moments': 17, 'url': 'https://www.youtube.com/watch?v=QHn9KyE-zZo', 'duration': 196.279, 'sentences': []}, {'video_id': '9-yueOtwiL8', 'num_moments': 17, 'url': 'https://www.youtube.com/watch?v=9-yueOtwiL8', 'duration': 230.69, 'sentences': []}]\n"
     ]
    }
   ],
   "source": [
    "with open('captions_dataset/train.json', 'r') as captions_data:\n",
    "    captions = json.load(captions_data)\n",
    "\n",
    "# Add sentences to top_videos\n",
    "for video in top_videos:\n",
    "    video_id = \"v_\" + video[\"video_id\"]\n",
    "    video[\"sentences\"] = captions.get(video_id, {}).get(\"sentences\", [])\n",
    "\n",
    "print(top_videos)"
   ]
  },
  {
   "cell_type": "markdown",
   "metadata": {},
   "source": [
    "## Video frame extraction\n",
    "\n",
    "PyAV is a wrapper library providing you access to `ffmpeg`, a command-line video processing tool. In the example below, you will be able to extract frames from the a video shot."
   ]
  },
  {
   "cell_type": "code",
   "execution_count": 6,
   "metadata": {},
   "outputs": [],
   "source": [
    "import av\n",
    "import av.datasets\n",
    "import os\n",
    "\n",
    "video_folder = \"./video\"\n",
    "output_folder = \"./frames\"\n",
    "\n",
    "for video in os.listdir(video_folder):\n",
    "    # File name without extension\n",
    "    filename = os.path.splitext(video)[0]\n",
    "    if not os.path.isdir(output_folder + \"/\" + filename):\n",
    "        os.makedirs(output_folder + \"/\" + filename)\n",
    "    with av.open(video_folder + \"/\" + video) as container:\n",
    "        stream = container.streams.video[0]\n",
    "        # We want 1 frame per second\n",
    "        fps = stream.average_rate\n",
    "        interval = int(fps)\n",
    "        #print(fps)\n",
    "        cpt = 0\n",
    "        for i,frame in enumerate(container.decode(stream)):\n",
    "            if i % interval == 0:\n",
    "                frame.to_image().save(output_folder+\"/\"+filename+\"/\"+str(cpt)+\".jpg\", quality=80)\n",
    "                cpt += 1"
   ]
  },
  {
   "cell_type": "markdown",
   "metadata": {},
   "source": [
    "## Video metadata\n",
    "\n",
    "Process the video metadata provided in the `json` file and index the video data in OpenSearch."
   ]
  },
  {
   "cell_type": "code",
   "execution_count": 12,
   "metadata": {},
   "outputs": [
    {
     "name": "stdout",
     "output_type": "stream",
     "text": [
      "Index already existed. Nothing to be done.\n"
     ]
    }
   ],
   "source": [
    "#print(top_videos)\n",
    "\n",
    "from opensearchpy import OpenSearch\n",
    "import pprint as pp\n",
    "\n",
    "\n",
    "host = 'api.novasearch.org'\n",
    "port = 443\n",
    "\n",
    "user = 'user01' # Add your user name here.\n",
    "password = 'erasmus+2025' # Add your user password here. For testing only. Don't store credentials in code. \n",
    "index_name = user \n",
    "\n",
    "client = OpenSearch(\n",
    "    hosts = [{'host': host, 'port': port}],\n",
    "    http_compress = True, # enables gzip compression for request bodies\n",
    "    http_auth = (user, password),\n",
    "    use_ssl = True,\n",
    "    url_prefix = 'opensearch_v2',\n",
    "    verify_certs = False,\n",
    "    ssl_assert_hostname = False,\n",
    "    ssl_show_warn = False\n",
    ")\n",
    "\n",
    "index_body = {\n",
    "   \"settings\":{\n",
    "      \"index\":{\n",
    "         \"number_of_replicas\":0,\n",
    "         \"number_of_shards\":4,\n",
    "         \"refresh_interval\":\"-1\",\n",
    "         \"knn\":\"true\"\n",
    "      }\n",
    "   },\n",
    "   \"mappings\": {\n",
    "    \"properties\": {\n",
    "      \"url\": {\n",
    "        \"type\": \"text\"\n",
    "      },\n",
    "      \"num_moments\": {\n",
    "        \"type\": \"integer\"\n",
    "      },\n",
    "      \"video_id\": {\n",
    "        \"type\": \"keyword\"\n",
    "      },\n",
    "      \"CaptionText\": {\n",
    "        \"type\": \"text\"\n",
    "      },\n",
    "      \"length\": {\n",
    "        \"type\": \"float\"\n",
    "      }\n",
    "    }\n",
    "  }\n",
    "}\n",
    "\n",
    "if client.indices.exists(index=index_name):\n",
    "    print(\"Index already existed. Nothing to be done.\")\n",
    "else:        \n",
    "    response = client.indices.create(index_name, body=index_body)\n",
    "    print('\\nCreating index:')\n",
    "    print(response)"
   ]
  },
  {
   "cell_type": "code",
   "execution_count": 16,
   "metadata": {},
   "outputs": [
    {
     "name": "stdout",
     "output_type": "stream",
     "text": [
      "Video:  {'url': 'https://www.youtube.com/watch?v=o1WPnnvs00I', 'num_moments': 23, 'id': 'o1WPnnvs00I', 'captions': ['A man is playing a flute in front of a microphone.', ' A few other men are shown playing guitars as they sit.', ' The group plays for the audience, occasionally zooming in on individuals.', ' One man is playing drums while the others are on flute and guitar.', ' The lights move fluidly as they crescendo, and they screen goes black.'], 'length': 229.86}\n",
      "Video:  {'url': 'https://www.youtube.com/watch?v=oGwn4NUeoy8', 'num_moments': 23, 'id': 'oGwn4NUeoy8', 'captions': ['A small group of people are seen on a stage getting their instruments ready.', ' A woman begins playing the drums while another plays piano and the others watch.', ' The two continue to play their instruments and others on the side watch.'], 'length': 153.09}\n",
      "Video:  {'url': 'https://www.youtube.com/watch?v=VEDRmPt_-Ms', 'num_moments': 20, 'id': 'VEDRmPt_-Ms', 'captions': ['women are in a gymnastics competition doing high jumps in a roofed gym with a lot of people gathered around them watching them.', ' participants are on the podium receiveng thei medals.'], 'length': 232.07999999999998}\n",
      "Video:  {'url': 'https://www.youtube.com/watch?v=qF3EbR8y8go', 'num_moments': 19, 'id': 'qF3EbR8y8go', 'captions': ['woman is painting in a white paper green leaves in a chinese tree.', ' a red paint is shown and woman put a stamp on the corner of the paper.', ' woman is painting a blue ad purple chinese flower.', ' a red and black flowers are painted on a white paper with very detail for the same woman in a dark room.', ' woman used some black painting for make details, put the red stamp on the corner and finished the painting with yellow and reddetails on the flowers.'], 'length': 204.1}\n",
      "Video:  {'url': 'https://www.youtube.com/watch?v=DLJqhYP-C0k', 'num_moments': 18, 'id': 'DLJqhYP-C0k', 'captions': ['The opening credits are shown for a video about bowling.', ' The video then shows several bowlers doing bowling tricks at a bowling alley.', ' A credit comes onto the screen introducing the grad finale trick.', ' A man throws the ball and simultaneously throws himself down the alley as well.', ' The closing credits then com onto the screen to end the video.'], 'length': 186.968}\n",
      "Video:  {'url': 'https://www.youtube.com/watch?v=t6f_O8a4sSg', 'num_moments': 18, 'id': 't6f_O8a4sSg', 'captions': [], 'length': 218.52}\n",
      "Video:  {'url': 'https://www.youtube.com/watch?v=6gyD-Mte2ZM', 'num_moments': 18, 'id': '6gyD-Mte2ZM', 'captions': [], 'length': 188.245}\n",
      "Video:  {'url': 'https://www.youtube.com/watch?v=jBvGvVw3R-Q', 'num_moments': 18, 'id': 'jBvGvVw3R-Q', 'captions': ['A man is standing in a gym preparing to lift a set of weights placed on a bar.', 'Next the screen  flashes to a younger male jerking and then drops the bar on the ground.', 'Several more people are shown lifting weights and dropping them on the ground.', 'The man begins to dance as he lifts and drops the bar and the continuation of weightlifting is repeated.', 'After,the men continue walking around the gym eating a protein bar.'], 'length': 218.62}\n",
      "Video:  {'url': 'https://www.youtube.com/watch?v=PJ72Yl0B1rY', 'num_moments': 17, 'id': 'PJ72Yl0B1rY', 'captions': [], 'length': 206.332}\n",
      "Video:  {'url': 'https://www.youtube.com/watch?v=QHn9KyE-zZo', 'num_moments': 17, 'id': 'QHn9KyE-zZo', 'captions': [], 'length': 196.279}\n",
      "Video:  {'url': 'https://www.youtube.com/watch?v=9-yueOtwiL8', 'num_moments': 17, 'id': '9-yueOtwiL8', 'captions': [], 'length': 230.69}\n"
     ]
    }
   ],
   "source": [
    "video_annotations = []\n",
    "for video in top_videos:\n",
    "    data = {\n",
    "        \"url\": video['url'],\n",
    "        \"num_moments\": video['num_moments'],\n",
    "        \"id\":  video['video_id'],\n",
    "        \"captions\":  video['sentences'],\n",
    "        \"length\": video['duration']\n",
    "    }\n",
    "    video_annotations.append(data)\n",
    "\n",
    "\n",
    "for video in video_annotations:\n",
    "    print(\"Video: \",video)\n",
    "    client.index(index=index_name, body=video)"
   ]
  },
  {
   "cell_type": "code",
   "execution_count": 15,
   "metadata": {},
   "outputs": [
    {
     "name": "stdout",
     "output_type": "stream",
     "text": [
      "Found 0 documents\n"
     ]
    }
   ],
   "source": [
    "search_query = {\n",
    "    \"query\": {\n",
    "        \"match_all\": {}  # Returns all documents\n",
    "    },\n",
    "    \"size\": 10  # Limit to 10 results\n",
    "}\n",
    "\n",
    "# Execute the search\n",
    "response = client.search(\n",
    "    body=search_query,\n",
    "    index=user\n",
    ")\n",
    "\n",
    "# Print the results to verify data was indexed correctly\n",
    "print(f\"Found {response['hits']['total']['value']} documents\")\n",
    "for hit in response['hits']['hits']:\n",
    "    print(f\"Document ID: {hit['_id']}\")\n",
    "    print(f\"Source: {hit['_source']}\")\n",
    "    print(\"-\" * 50)"
   ]
  },
  {
   "cell_type": "markdown",
   "metadata": {},
   "source": [
    "## Video captions\n",
    "\n",
    "The ActivityNetCaptions dataset https://cs.stanford.edu/people/ranjaykrishna/densevid/ dataset provides a textual description of each videos. Index the video captions on a text field of your OpenSearch index."
   ]
  }
 ],
 "metadata": {
  "kernelspec": {
   "display_name": "nlp-cv-ir",
   "language": "python",
   "name": "python3"
  },
  "language_info": {
   "codemirror_mode": {
    "name": "ipython",
    "version": 3
   },
   "file_extension": ".py",
   "mimetype": "text/x-python",
   "name": "python",
   "nbconvert_exporter": "python",
   "pygments_lexer": "ipython3",
   "version": "3.9.21"
  }
 },
 "nbformat": 4,
 "nbformat_minor": 2
}
