{
 "cells": [
  {
   "cell_type": "markdown",
   "metadata": {},
   "source": [
    "# Project Week 1: ActivityNet Video Data Preparation and Indexing\n",
    "\n",
    "In this example we will use the ActivityNet dataset https://github.com/activitynet/ActivityNet. \n",
    "\n",
    " - Select the 10 videos with more moments.\n",
    " - Download these videos onto your computer.\n",
    " - Extract the frames for every video.\n",
    " - Read the textual descriptions of each video.\n",
    " - Index the video data in OpenSearch.\n",
    "\n",
    " In this week, you will index the video data and make it searchable with OpenSearch. You should refer to the OpenSearch tutorial laboratory."
   ]
  },
  {
   "cell_type": "markdown",
   "metadata": {},
   "source": [
    "## Select videos\n",
    "Download the `activity_net.v1-3.min.json` file containing the list of videos. The file is in the github repository of ActivityNet.\n",
    "Parse this file and select the 10 videos with more moments."
   ]
  },
  {
   "cell_type": "code",
   "execution_count": 2,
   "metadata": {},
   "outputs": [
    {
     "name": "stdout",
     "output_type": "stream",
     "text": [
      "[{'video_id': 'o1WPnnvs00I', 'num_moments': 23, 'url': 'https://www.youtube.com/watch?v=o1WPnnvs00I'}, {'video_id': 'oGwn4NUeoy8', 'num_moments': 23, 'url': 'https://www.youtube.com/watch?v=oGwn4NUeoy8'}, {'video_id': 'VEDRmPt_-Ms', 'num_moments': 20, 'url': 'https://www.youtube.com/watch?v=VEDRmPt_-Ms'}, {'video_id': 'qF3EbR8y8go', 'num_moments': 19, 'url': 'https://www.youtube.com/watch?v=qF3EbR8y8go'}, {'video_id': 'DLJqhYP-C0k', 'num_moments': 18, 'url': 'https://www.youtube.com/watch?v=DLJqhYP-C0k'}, {'video_id': 't6f_O8a4sSg', 'num_moments': 18, 'url': 'https://www.youtube.com/watch?v=t6f_O8a4sSg'}, {'video_id': '6gyD-Mte2ZM', 'num_moments': 18, 'url': 'https://www.youtube.com/watch?v=6gyD-Mte2ZM'}, {'video_id': 'jBvGvVw3R-Q', 'num_moments': 18, 'url': 'https://www.youtube.com/watch?v=jBvGvVw3R-Q'}, {'video_id': 'PJ72Yl0B1rY', 'num_moments': 17, 'url': 'https://www.youtube.com/watch?v=PJ72Yl0B1rY'}, {'video_id': 'QHn9KyE-zZo', 'num_moments': 17, 'url': 'https://www.youtube.com/watch?v=QHn9KyE-zZo'}, {'video_id': '9-yueOtwiL8', 'num_moments': 17, 'url': 'https://www.youtube.com/watch?v=9-yueOtwiL8'}]\n"
     ]
    },
    {
     "name": "stderr",
     "output_type": "stream",
     "text": [
      "WARNING: \"-f best\" selects the best pre-merged format which is often not the best option.\n",
      "         To let yt-dlp download and merge the best available formats, simply do not pass any format selection.\n",
      "         If you know what you are doing and want only the best pre-merged format, use \"-f b\" instead to suppress this warning\n"
     ]
    },
    {
     "name": "stdout",
     "output_type": "stream",
     "text": [
      "[youtube] Extracting URL: https://www.youtube.com/watch?v=o1WPnnvs00I\n",
      "[youtube] o1WPnnvs00I: Downloading webpage\n",
      "[youtube] o1WPnnvs00I: Downloading tv client config\n",
      "[youtube] o1WPnnvs00I: Downloading player 8a8ac953\n",
      "[youtube] o1WPnnvs00I: Downloading tv player API JSON\n",
      "[youtube] o1WPnnvs00I: Downloading ios player API JSON\n",
      "[youtube] o1WPnnvs00I: Downloading m3u8 information\n",
      "[info] o1WPnnvs00I: Downloading 1 format(s): 18\n",
      "[download] Destination: Irish March (Fife & Flute) – Wouter Kellerman (Live) [o1WPnnvs00I].mp4\n",
      "[download] 100% of   10.19MiB in 00:00:10 at 975.23KiB/s \n"
     ]
    },
    {
     "name": "stderr",
     "output_type": "stream",
     "text": [
      "WARNING: \"-f best\" selects the best pre-merged format which is often not the best option.\n",
      "         To let yt-dlp download and merge the best available formats, simply do not pass any format selection.\n",
      "         If you know what you are doing and want only the best pre-merged format, use \"-f b\" instead to suppress this warning\n"
     ]
    },
    {
     "name": "stdout",
     "output_type": "stream",
     "text": [
      "[youtube] Extracting URL: https://www.youtube.com/watch?v=oGwn4NUeoy8\n",
      "[youtube] oGwn4NUeoy8: Downloading webpage\n",
      "[youtube] oGwn4NUeoy8: Downloading tv client config\n",
      "[youtube] oGwn4NUeoy8: Downloading player 8a8ac953\n",
      "[youtube] oGwn4NUeoy8: Downloading tv player API JSON\n",
      "[youtube] oGwn4NUeoy8: Downloading ios player API JSON\n",
      "[youtube] oGwn4NUeoy8: Downloading m3u8 information\n",
      "[info] oGwn4NUeoy8: Downloading 1 format(s): 18\n",
      "[download] Destination: Jessica Ryckewaert plays Congas Drums Mezza Voce, Rhythm Concert [oGwn4NUeoy8].mp4\n",
      "[download] 100% of    5.66MiB in 00:00:03 at 1.45MiB/s   \n"
     ]
    },
    {
     "name": "stderr",
     "output_type": "stream",
     "text": [
      "WARNING: \"-f best\" selects the best pre-merged format which is often not the best option.\n",
      "         To let yt-dlp download and merge the best available formats, simply do not pass any format selection.\n",
      "         If you know what you are doing and want only the best pre-merged format, use \"-f b\" instead to suppress this warning\n"
     ]
    },
    {
     "name": "stdout",
     "output_type": "stream",
     "text": [
      "[youtube] Extracting URL: https://www.youtube.com/watch?v=VEDRmPt_-Ms\n",
      "[youtube] VEDRmPt_-Ms: Downloading webpage\n",
      "[youtube] VEDRmPt_-Ms: Downloading tv client config\n",
      "[youtube] VEDRmPt_-Ms: Downloading player 8a8ac953\n",
      "[youtube] VEDRmPt_-Ms: Downloading tv player API JSON\n",
      "[youtube] VEDRmPt_-Ms: Downloading ios player API JSON\n",
      "[youtube] VEDRmPt_-Ms: Downloading m3u8 information\n",
      "[info] VEDRmPt_-Ms: Downloading 1 format(s): 18\n",
      "[download] Destination: Raquel.Pinto.Estrela.Moitense.Tumbling.2013 [VEDRmPt_-Ms].mp4\n",
      "[download] 100% of   11.13MiB in 00:00:06 at 1.73MiB/s     \n"
     ]
    },
    {
     "name": "stderr",
     "output_type": "stream",
     "text": [
      "WARNING: \"-f best\" selects the best pre-merged format which is often not the best option.\n",
      "         To let yt-dlp download and merge the best available formats, simply do not pass any format selection.\n",
      "         If you know what you are doing and want only the best pre-merged format, use \"-f b\" instead to suppress this warning\n"
     ]
    },
    {
     "name": "stdout",
     "output_type": "stream",
     "text": [
      "[youtube] Extracting URL: https://www.youtube.com/watch?v=qF3EbR8y8go\n",
      "[youtube] qF3EbR8y8go: Downloading webpage\n",
      "[youtube] qF3EbR8y8go: Downloading tv client config\n",
      "[youtube] qF3EbR8y8go: Downloading player 8a8ac953\n",
      "[youtube] qF3EbR8y8go: Downloading tv player API JSON\n",
      "[youtube] qF3EbR8y8go: Downloading ios player API JSON\n",
      "[youtube] qF3EbR8y8go: Downloading m3u8 information\n",
      "[info] qF3EbR8y8go: Downloading 1 format(s): 18\n",
      "[download] Destination: Chinese Brush Painting [qF3EbR8y8go].mp4\n",
      "[download] 100% of    9.50MiB in 00:00:04 at 1.98MiB/s     \n"
     ]
    },
    {
     "name": "stderr",
     "output_type": "stream",
     "text": [
      "WARNING: \"-f best\" selects the best pre-merged format which is often not the best option.\n",
      "         To let yt-dlp download and merge the best available formats, simply do not pass any format selection.\n",
      "         If you know what you are doing and want only the best pre-merged format, use \"-f b\" instead to suppress this warning\n"
     ]
    },
    {
     "name": "stdout",
     "output_type": "stream",
     "text": [
      "[youtube] Extracting URL: https://www.youtube.com/watch?v=DLJqhYP-C0k\n",
      "[youtube] DLJqhYP-C0k: Downloading webpage\n",
      "[youtube] DLJqhYP-C0k: Downloading tv client config\n",
      "[youtube] DLJqhYP-C0k: Downloading player 8a8ac953\n",
      "[youtube] DLJqhYP-C0k: Downloading tv player API JSON\n",
      "[youtube] DLJqhYP-C0k: Downloading ios player API JSON\n",
      "[youtube] DLJqhYP-C0k: Downloading m3u8 information\n",
      "[info] DLJqhYP-C0k: Downloading 1 format(s): 18\n",
      "[download] Destination: LOS MEJORES TIROS DE BOLOS  THE  BEST BOWLING SHOTS [DLJqhYP-C0k].mp4\n",
      "[download] 100% of   10.60MiB in 00:00:09 at 1.17MiB/s     \n"
     ]
    },
    {
     "name": "stderr",
     "output_type": "stream",
     "text": [
      "WARNING: \"-f best\" selects the best pre-merged format which is often not the best option.\n",
      "         To let yt-dlp download and merge the best available formats, simply do not pass any format selection.\n",
      "         If you know what you are doing and want only the best pre-merged format, use \"-f b\" instead to suppress this warning\n"
     ]
    },
    {
     "name": "stdout",
     "output_type": "stream",
     "text": [
      "[youtube] Extracting URL: https://www.youtube.com/watch?v=t6f_O8a4sSg\n",
      "[youtube] t6f_O8a4sSg: Downloading webpage\n",
      "[youtube] t6f_O8a4sSg: Downloading tv client config\n",
      "[youtube] t6f_O8a4sSg: Downloading player 8a8ac953\n",
      "[youtube] t6f_O8a4sSg: Downloading tv player API JSON\n",
      "[youtube] t6f_O8a4sSg: Downloading ios player API JSON\n",
      "[youtube] t6f_O8a4sSg: Downloading m3u8 information\n",
      "[info] t6f_O8a4sSg: Downloading 1 format(s): 18\n",
      "[download] Destination: SKATEBOARDING MADE SIMPLE VOLUME 5 AVAILABLE NOW! [t6f_O8a4sSg].mp4\n",
      "[download] 100% of   11.71MiB in 00:00:07 at 1.64MiB/s     \n"
     ]
    },
    {
     "name": "stderr",
     "output_type": "stream",
     "text": [
      "WARNING: \"-f best\" selects the best pre-merged format which is often not the best option.\n",
      "         To let yt-dlp download and merge the best available formats, simply do not pass any format selection.\n",
      "         If you know what you are doing and want only the best pre-merged format, use \"-f b\" instead to suppress this warning\n"
     ]
    },
    {
     "name": "stdout",
     "output_type": "stream",
     "text": [
      "[youtube] Extracting URL: https://www.youtube.com/watch?v=6gyD-Mte2ZM\n",
      "[youtube] 6gyD-Mte2ZM: Downloading webpage\n",
      "[youtube] 6gyD-Mte2ZM: Downloading tv client config\n",
      "[youtube] 6gyD-Mte2ZM: Downloading player 8a8ac953\n",
      "[youtube] 6gyD-Mte2ZM: Downloading tv player API JSON\n",
      "[youtube] 6gyD-Mte2ZM: Downloading ios player API JSON\n",
      "[youtube] 6gyD-Mte2ZM: Downloading m3u8 information\n",
      "[info] 6gyD-Mte2ZM: Downloading 1 format(s): 18\n",
      "[download] Destination: PBA - Lowest game bowled on tv - 100 [6gyD-Mte2ZM].mp4\n",
      "[download] 100% of   13.03MiB in 00:00:16 at 827.13KiB/s   \n"
     ]
    },
    {
     "name": "stderr",
     "output_type": "stream",
     "text": [
      "WARNING: \"-f best\" selects the best pre-merged format which is often not the best option.\n",
      "         To let yt-dlp download and merge the best available formats, simply do not pass any format selection.\n",
      "         If you know what you are doing and want only the best pre-merged format, use \"-f b\" instead to suppress this warning\n"
     ]
    },
    {
     "name": "stdout",
     "output_type": "stream",
     "text": [
      "[youtube] Extracting URL: https://www.youtube.com/watch?v=jBvGvVw3R-Q\n",
      "[youtube] jBvGvVw3R-Q: Downloading webpage\n",
      "[youtube] jBvGvVw3R-Q: Downloading tv client config\n",
      "[youtube] jBvGvVw3R-Q: Downloading player 8a8ac953\n",
      "[youtube] jBvGvVw3R-Q: Downloading tv player API JSON\n",
      "[youtube] jBvGvVw3R-Q: Downloading ios player API JSON\n",
      "[youtube] jBvGvVw3R-Q: Downloading m3u8 information\n",
      "[info] jBvGvVw3R-Q: Downloading 1 format(s): 18\n",
      "[download] Destination: The King of American Weightlifting Visits Cal Strength [jBvGvVw3R-Q].mp4\n",
      "[download] 100% of   13.51MiB in 00:00:08 at 1.65MiB/s     \n"
     ]
    },
    {
     "name": "stderr",
     "output_type": "stream",
     "text": [
      "WARNING: \"-f best\" selects the best pre-merged format which is often not the best option.\n",
      "         To let yt-dlp download and merge the best available formats, simply do not pass any format selection.\n",
      "         If you know what you are doing and want only the best pre-merged format, use \"-f b\" instead to suppress this warning\n"
     ]
    },
    {
     "name": "stdout",
     "output_type": "stream",
     "text": [
      "[youtube] Extracting URL: https://www.youtube.com/watch?v=PJ72Yl0B1rY\n",
      "[youtube] PJ72Yl0B1rY: Downloading webpage\n",
      "[youtube] PJ72Yl0B1rY: Downloading tv client config\n",
      "[youtube] PJ72Yl0B1rY: Downloading player 8a8ac953\n",
      "[youtube] PJ72Yl0B1rY: Downloading tv player API JSON\n",
      "[youtube] PJ72Yl0B1rY: Downloading ios player API JSON\n"
     ]
    },
    {
     "name": "stderr",
     "output_type": "stream",
     "text": [
      "ERROR: [youtube] PJ72Yl0B1rY: Private video. Sign in if you've been granted access to this video. Use --cookies-from-browser or --cookies for the authentication. See  https://github.com/yt-dlp/yt-dlp/wiki/FAQ#how-do-i-pass-cookies-to-yt-dlp  for how to manually pass cookies. Also see  https://github.com/yt-dlp/yt-dlp/wiki/Extractors#exporting-youtube-cookies  for tips on effectively exporting YouTube cookies\n",
      "WARNING: \"-f best\" selects the best pre-merged format which is often not the best option.\n",
      "         To let yt-dlp download and merge the best available formats, simply do not pass any format selection.\n",
      "         If you know what you are doing and want only the best pre-merged format, use \"-f b\" instead to suppress this warning\n"
     ]
    },
    {
     "name": "stdout",
     "output_type": "stream",
     "text": [
      "[youtube] Extracting URL: https://www.youtube.com/watch?v=QHn9KyE-zZo\n",
      "[youtube] QHn9KyE-zZo: Downloading webpage\n",
      "[youtube] QHn9KyE-zZo: Downloading tv client config\n",
      "[youtube] QHn9KyE-zZo: Downloading player 8a8ac953\n",
      "[youtube] QHn9KyE-zZo: Downloading tv player API JSON\n",
      "[youtube] QHn9KyE-zZo: Downloading ios player API JSON\n",
      "[youtube] QHn9KyE-zZo: Downloading m3u8 information\n",
      "[info] QHn9KyE-zZo: Downloading 1 format(s): 18\n",
      "[download] Destination: London Slacklining [QHn9KyE-zZo].mp4\n",
      "[download] 100% of   16.67MiB in 00:00:23 at 734.22KiB/s \n"
     ]
    },
    {
     "name": "stderr",
     "output_type": "stream",
     "text": [
      "WARNING: \"-f best\" selects the best pre-merged format which is often not the best option.\n",
      "         To let yt-dlp download and merge the best available formats, simply do not pass any format selection.\n",
      "         If you know what you are doing and want only the best pre-merged format, use \"-f b\" instead to suppress this warning\n"
     ]
    },
    {
     "name": "stdout",
     "output_type": "stream",
     "text": [
      "[youtube] Extracting URL: https://www.youtube.com/watch?v=9-yueOtwiL8\n",
      "[youtube] 9-yueOtwiL8: Downloading webpage\n",
      "[youtube] 9-yueOtwiL8: Downloading tv client config\n",
      "[youtube] 9-yueOtwiL8: Downloading player 8a8ac953\n",
      "[youtube] 9-yueOtwiL8: Downloading tv player API JSON\n",
      "[youtube] 9-yueOtwiL8: Downloading ios player API JSON\n",
      "[youtube] 9-yueOtwiL8: Downloading m3u8 information\n",
      "[info] 9-yueOtwiL8: Downloading 1 format(s): 18\n",
      "[download] Destination: Shot-Put, Discus, Javelin [9-yueOtwiL8].mp4\n",
      "[download] 100% of   13.35MiB in 00:00:06 at 2.00MiB/s     \n"
     ]
    }
   ],
   "source": [
    "import json\n",
    "from pprint import pprint\n",
    "import subprocess\n",
    "\n",
    "with open('activity_net.v1-3.min.json', 'r') as json_data:\n",
    "    data = json.load(json_data)\n",
    "    \n",
    "    video_annotations = [\n",
    "    {\"video_id\": vid, \"num_moments\": len(details[\"annotations\"]), \"url\": details[\"url\"]}\n",
    "    for vid, details in data[\"database\"].items()\n",
    "]\n",
    "    \n",
    "    top_videos = sorted(video_annotations, key=lambda x: x[\"num_moments\"], reverse=True)[:11]\n",
    "\n",
    "    print(top_videos)\n",
    "    for video in top_videos:\n",
    "        subprocess.run([\"yt-dlp\", \"-f\", \"best\", video['url']])\n",
    "\n"
   ]
  },
  {
   "cell_type": "markdown",
   "metadata": {},
   "source": [
    "## Video frame extraction\n",
    "\n",
    "PyAV is a wrapper library providing you access to `ffmpeg`, a command-line video processing tool. In the example below, you will be able to extract frames from the a video shot."
   ]
  },
  {
   "cell_type": "code",
   "execution_count": null,
   "metadata": {},
   "outputs": [
    {
     "name": "stdout",
     "output_type": "stream",
     "text": [
      "30\n",
      "24000/1001\n",
      "3476500/115999\n",
      "25\n",
      "30000/1001\n",
      "30000/1001\n",
      "30000/1001\n",
      "30000/1001\n",
      "30000/1001\n",
      "30000/1001\n"
     ]
    }
   ],
   "source": [
    "import av\n",
    "import av.datasets\n",
    "import os\n",
    "\n",
    "video_folder = \"./video\"\n",
    "output_folder = \"./frames\"\n",
    "\n",
    "for video in os.listdir(video_folder):\n",
    "    # File name without extension\n",
    "    filename = os.path.splitext(video)[0]\n",
    "    if not os.path.isdir(output_folder + \"/\" + filename):\n",
    "        os.makedirs(output_folder + \"/\" + filename)\n",
    "    with av.open(video_folder + \"/\" + video) as container:\n",
    "        stream = container.streams.video[0]\n",
    "        # We want 1 frame per second\n",
    "        fps = stream.average_rate\n",
    "        interval = int(fps)\n",
    "        #print(fps)\n",
    "        cpt = 0\n",
    "        for i,frame in enumerate(container.decode(stream)):\n",
    "            if i % interval == 0:\n",
    "                frame.to_image().save(output_folder+\"/\"+filename+\"/\"+str(cpt)+\".jpg\", quality=80)\n",
    "                cpt += 1"
   ]
  },
  {
   "cell_type": "markdown",
   "metadata": {},
   "source": [
    "## Video metadata\n",
    "\n",
    "Process the video metadata provided in the `json` file and index the video data in OpenSearch."
   ]
  },
  {
   "cell_type": "code",
   "execution_count": null,
   "metadata": {},
   "outputs": [
    {
     "ename": "AuthorizationException",
     "evalue": "AuthorizationException(403, '')",
     "output_type": "error",
     "traceback": [
      "\u001b[0;31m---------------------------------------------------------------------------\u001b[0m",
      "\u001b[0;31mAuthorizationException\u001b[0m                    Traceback (most recent call last)",
      "Cell \u001b[0;32mIn[11], line 45\u001b[0m\n\u001b[1;32m     25\u001b[0m \u001b[38;5;66;03m#index_name = \"video_metadata\"\u001b[39;00m\n\u001b[1;32m     27\u001b[0m index_mapping \u001b[38;5;241m=\u001b[39m {\n\u001b[1;32m     28\u001b[0m     \u001b[38;5;124m\"\u001b[39m\u001b[38;5;124msettings\u001b[39m\u001b[38;5;124m\"\u001b[39m:{\n\u001b[1;32m     29\u001b[0m       \u001b[38;5;124m\"\u001b[39m\u001b[38;5;124mindex\u001b[39m\u001b[38;5;124m\"\u001b[39m:{\n\u001b[0;32m   (...)\u001b[0m\n\u001b[1;32m     42\u001b[0m     }\n\u001b[1;32m     43\u001b[0m }\n\u001b[0;32m---> 45\u001b[0m \u001b[38;5;28;01mif\u001b[39;00m \u001b[38;5;129;01mnot\u001b[39;00m \u001b[43mclient\u001b[49m\u001b[38;5;241;43m.\u001b[39;49m\u001b[43mindices\u001b[49m\u001b[38;5;241;43m.\u001b[39;49m\u001b[43mexists\u001b[49m\u001b[43m(\u001b[49m\u001b[43mindex\u001b[49m\u001b[38;5;241;43m=\u001b[39;49m\u001b[43mindex_name\u001b[49m\u001b[43m)\u001b[49m:\n\u001b[1;32m     46\u001b[0m     resp \u001b[38;5;241m=\u001b[39m client\u001b[38;5;241m.\u001b[39mindices\u001b[38;5;241m.\u001b[39mcreate(index \u001b[38;5;241m=\u001b[39m index_name)\n\u001b[1;32m     47\u001b[0m \u001b[38;5;66;03m# Create index if it doesn’t exist\u001b[39;00m\n",
      "File \u001b[0;32m~/anaconda3/envs/nlp-cv-ir/lib/python3.9/site-packages/opensearchpy/client/utils.py:176\u001b[0m, in \u001b[0;36mquery_params.<locals>._wrapper.<locals>._wrapped\u001b[0;34m(*args, **kwargs)\u001b[0m\n\u001b[1;32m    173\u001b[0m         \u001b[38;5;28;01mif\u001b[39;00m v \u001b[38;5;129;01mis\u001b[39;00m \u001b[38;5;129;01mnot\u001b[39;00m \u001b[38;5;28;01mNone\u001b[39;00m:\n\u001b[1;32m    174\u001b[0m             params[p] \u001b[38;5;241m=\u001b[39m _escape(v)\n\u001b[0;32m--> 176\u001b[0m \u001b[38;5;28;01mreturn\u001b[39;00m \u001b[43mfunc\u001b[49m\u001b[43m(\u001b[49m\u001b[38;5;241;43m*\u001b[39;49m\u001b[43margs\u001b[49m\u001b[43m,\u001b[49m\u001b[43m \u001b[49m\u001b[43mparams\u001b[49m\u001b[38;5;241;43m=\u001b[39;49m\u001b[43mparams\u001b[49m\u001b[43m,\u001b[49m\u001b[43m \u001b[49m\u001b[43mheaders\u001b[49m\u001b[38;5;241;43m=\u001b[39;49m\u001b[43mheaders\u001b[49m\u001b[43m,\u001b[49m\u001b[43m \u001b[49m\u001b[38;5;241;43m*\u001b[39;49m\u001b[38;5;241;43m*\u001b[39;49m\u001b[43mkwargs\u001b[49m\u001b[43m)\u001b[49m\n",
      "File \u001b[0;32m~/anaconda3/envs/nlp-cv-ir/lib/python3.9/site-packages/opensearchpy/client/indices.py:671\u001b[0m, in \u001b[0;36mIndicesClient.exists\u001b[0;34m(self, index, params, headers)\u001b[0m\n\u001b[1;32m    668\u001b[0m \u001b[38;5;28;01mif\u001b[39;00m index \u001b[38;5;129;01min\u001b[39;00m SKIP_IN_PATH:\n\u001b[1;32m    669\u001b[0m     \u001b[38;5;28;01mraise\u001b[39;00m \u001b[38;5;167;01mValueError\u001b[39;00m(\u001b[38;5;124m\"\u001b[39m\u001b[38;5;124mEmpty value passed for a required argument \u001b[39m\u001b[38;5;124m'\u001b[39m\u001b[38;5;124mindex\u001b[39m\u001b[38;5;124m'\u001b[39m\u001b[38;5;124m.\u001b[39m\u001b[38;5;124m\"\u001b[39m)\n\u001b[0;32m--> 671\u001b[0m \u001b[38;5;28;01mreturn\u001b[39;00m \u001b[38;5;28;43mself\u001b[39;49m\u001b[38;5;241;43m.\u001b[39;49m\u001b[43mtransport\u001b[49m\u001b[38;5;241;43m.\u001b[39;49m\u001b[43mperform_request\u001b[49m\u001b[43m(\u001b[49m\n\u001b[1;32m    672\u001b[0m \u001b[43m    \u001b[49m\u001b[38;5;124;43m\"\u001b[39;49m\u001b[38;5;124;43mHEAD\u001b[39;49m\u001b[38;5;124;43m\"\u001b[39;49m\u001b[43m,\u001b[49m\u001b[43m \u001b[49m\u001b[43m_make_path\u001b[49m\u001b[43m(\u001b[49m\u001b[43mindex\u001b[49m\u001b[43m)\u001b[49m\u001b[43m,\u001b[49m\u001b[43m \u001b[49m\u001b[43mparams\u001b[49m\u001b[38;5;241;43m=\u001b[39;49m\u001b[43mparams\u001b[49m\u001b[43m,\u001b[49m\u001b[43m \u001b[49m\u001b[43mheaders\u001b[49m\u001b[38;5;241;43m=\u001b[39;49m\u001b[43mheaders\u001b[49m\n\u001b[1;32m    673\u001b[0m \u001b[43m\u001b[49m\u001b[43m)\u001b[49m\n",
      "File \u001b[0;32m~/anaconda3/envs/nlp-cv-ir/lib/python3.9/site-packages/opensearchpy/transport.py:457\u001b[0m, in \u001b[0;36mTransport.perform_request\u001b[0;34m(self, method, url, params, body, timeout, ignore, headers)\u001b[0m\n\u001b[1;32m    455\u001b[0m             \u001b[38;5;28;01mraise\u001b[39;00m e\n\u001b[1;32m    456\u001b[0m     \u001b[38;5;28;01melse\u001b[39;00m:\n\u001b[0;32m--> 457\u001b[0m         \u001b[38;5;28;01mraise\u001b[39;00m e\n\u001b[1;32m    459\u001b[0m \u001b[38;5;28;01melse\u001b[39;00m:\n\u001b[1;32m    460\u001b[0m     \u001b[38;5;66;03m# connection didn't fail, confirm its live status\u001b[39;00m\n\u001b[1;32m    461\u001b[0m     \u001b[38;5;28mself\u001b[39m\u001b[38;5;241m.\u001b[39mconnection_pool\u001b[38;5;241m.\u001b[39mmark_live(connection)\n",
      "File \u001b[0;32m~/anaconda3/envs/nlp-cv-ir/lib/python3.9/site-packages/opensearchpy/transport.py:418\u001b[0m, in \u001b[0;36mTransport.perform_request\u001b[0;34m(self, method, url, params, body, timeout, ignore, headers)\u001b[0m\n\u001b[1;32m    415\u001b[0m connection \u001b[38;5;241m=\u001b[39m \u001b[38;5;28mself\u001b[39m\u001b[38;5;241m.\u001b[39mget_connection()\n\u001b[1;32m    417\u001b[0m \u001b[38;5;28;01mtry\u001b[39;00m:\n\u001b[0;32m--> 418\u001b[0m     status, headers_response, data \u001b[38;5;241m=\u001b[39m \u001b[43mconnection\u001b[49m\u001b[38;5;241;43m.\u001b[39;49m\u001b[43mperform_request\u001b[49m\u001b[43m(\u001b[49m\n\u001b[1;32m    419\u001b[0m \u001b[43m        \u001b[49m\u001b[43mmethod\u001b[49m\u001b[43m,\u001b[49m\n\u001b[1;32m    420\u001b[0m \u001b[43m        \u001b[49m\u001b[43murl\u001b[49m\u001b[43m,\u001b[49m\n\u001b[1;32m    421\u001b[0m \u001b[43m        \u001b[49m\u001b[43mparams\u001b[49m\u001b[43m,\u001b[49m\n\u001b[1;32m    422\u001b[0m \u001b[43m        \u001b[49m\u001b[43mbody\u001b[49m\u001b[43m,\u001b[49m\n\u001b[1;32m    423\u001b[0m \u001b[43m        \u001b[49m\u001b[43mheaders\u001b[49m\u001b[38;5;241;43m=\u001b[39;49m\u001b[43mheaders\u001b[49m\u001b[43m,\u001b[49m\n\u001b[1;32m    424\u001b[0m \u001b[43m        \u001b[49m\u001b[43mignore\u001b[49m\u001b[38;5;241;43m=\u001b[39;49m\u001b[43mignore\u001b[49m\u001b[43m,\u001b[49m\n\u001b[1;32m    425\u001b[0m \u001b[43m        \u001b[49m\u001b[43mtimeout\u001b[49m\u001b[38;5;241;43m=\u001b[39;49m\u001b[43mtimeout\u001b[49m\u001b[43m,\u001b[49m\n\u001b[1;32m    426\u001b[0m \u001b[43m    \u001b[49m\u001b[43m)\u001b[49m\n\u001b[1;32m    428\u001b[0m     \u001b[38;5;66;03m# Lowercase all the header names for consistency in accessing them.\u001b[39;00m\n\u001b[1;32m    429\u001b[0m     headers_response \u001b[38;5;241m=\u001b[39m {\n\u001b[1;32m    430\u001b[0m         header\u001b[38;5;241m.\u001b[39mlower(): value \u001b[38;5;28;01mfor\u001b[39;00m header, value \u001b[38;5;129;01min\u001b[39;00m headers_response\u001b[38;5;241m.\u001b[39mitems()\n\u001b[1;32m    431\u001b[0m     }\n",
      "File \u001b[0;32m~/anaconda3/envs/nlp-cv-ir/lib/python3.9/site-packages/opensearchpy/connection/http_urllib3.py:308\u001b[0m, in \u001b[0;36mUrllib3HttpConnection.perform_request\u001b[0;34m(self, method, url, params, body, timeout, ignore, headers)\u001b[0m\n\u001b[1;32m    304\u001b[0m \u001b[38;5;28;01mif\u001b[39;00m \u001b[38;5;129;01mnot\u001b[39;00m (\u001b[38;5;241m200\u001b[39m \u001b[38;5;241m<\u001b[39m\u001b[38;5;241m=\u001b[39m response\u001b[38;5;241m.\u001b[39mstatus \u001b[38;5;241m<\u001b[39m \u001b[38;5;241m300\u001b[39m) \u001b[38;5;129;01mand\u001b[39;00m response\u001b[38;5;241m.\u001b[39mstatus \u001b[38;5;129;01mnot\u001b[39;00m \u001b[38;5;129;01min\u001b[39;00m ignore:\n\u001b[1;32m    305\u001b[0m     \u001b[38;5;28mself\u001b[39m\u001b[38;5;241m.\u001b[39mlog_request_fail(\n\u001b[1;32m    306\u001b[0m         method, full_url, url, orig_body, duration, response\u001b[38;5;241m.\u001b[39mstatus, raw_data\n\u001b[1;32m    307\u001b[0m     )\n\u001b[0;32m--> 308\u001b[0m     \u001b[38;5;28;43mself\u001b[39;49m\u001b[38;5;241;43m.\u001b[39;49m\u001b[43m_raise_error\u001b[49m\u001b[43m(\u001b[49m\n\u001b[1;32m    309\u001b[0m \u001b[43m        \u001b[49m\u001b[43mresponse\u001b[49m\u001b[38;5;241;43m.\u001b[39;49m\u001b[43mstatus\u001b[49m\u001b[43m,\u001b[49m\n\u001b[1;32m    310\u001b[0m \u001b[43m        \u001b[49m\u001b[43mraw_data\u001b[49m\u001b[43m,\u001b[49m\n\u001b[1;32m    311\u001b[0m \u001b[43m        \u001b[49m\u001b[38;5;28;43mself\u001b[39;49m\u001b[38;5;241;43m.\u001b[39;49m\u001b[43mget_response_headers\u001b[49m\u001b[43m(\u001b[49m\u001b[43mresponse\u001b[49m\u001b[43m)\u001b[49m\u001b[38;5;241;43m.\u001b[39;49m\u001b[43mget\u001b[49m\u001b[43m(\u001b[49m\u001b[38;5;124;43m\"\u001b[39;49m\u001b[38;5;124;43mcontent-type\u001b[39;49m\u001b[38;5;124;43m\"\u001b[39;49m\u001b[43m)\u001b[49m\u001b[43m,\u001b[49m\n\u001b[1;32m    312\u001b[0m \u001b[43m    \u001b[49m\u001b[43m)\u001b[49m\n\u001b[1;32m    314\u001b[0m \u001b[38;5;28mself\u001b[39m\u001b[38;5;241m.\u001b[39mlog_request_success(\n\u001b[1;32m    315\u001b[0m     method, full_url, url, orig_body, response\u001b[38;5;241m.\u001b[39mstatus, raw_data, duration\n\u001b[1;32m    316\u001b[0m )\n\u001b[1;32m    318\u001b[0m \u001b[38;5;28;01mreturn\u001b[39;00m response\u001b[38;5;241m.\u001b[39mstatus, response\u001b[38;5;241m.\u001b[39mheaders, raw_data\n",
      "File \u001b[0;32m~/anaconda3/envs/nlp-cv-ir/lib/python3.9/site-packages/opensearchpy/connection/base.py:315\u001b[0m, in \u001b[0;36mConnection._raise_error\u001b[0;34m(self, status_code, raw_data, content_type)\u001b[0m\n\u001b[1;32m    312\u001b[0m \u001b[38;5;28;01mexcept\u001b[39;00m (\u001b[38;5;167;01mValueError\u001b[39;00m, \u001b[38;5;167;01mTypeError\u001b[39;00m) \u001b[38;5;28;01mas\u001b[39;00m err:\n\u001b[1;32m    313\u001b[0m     logger\u001b[38;5;241m.\u001b[39mwarning(\u001b[38;5;124m\"\u001b[39m\u001b[38;5;124mUndecodable raw error response from server: \u001b[39m\u001b[38;5;132;01m%s\u001b[39;00m\u001b[38;5;124m\"\u001b[39m, err)\n\u001b[0;32m--> 315\u001b[0m \u001b[38;5;28;01mraise\u001b[39;00m HTTP_EXCEPTIONS\u001b[38;5;241m.\u001b[39mget(status_code, TransportError)(\n\u001b[1;32m    316\u001b[0m     status_code, error_message, additional_info\n\u001b[1;32m    317\u001b[0m )\n",
      "\u001b[0;31mAuthorizationException\u001b[0m: AuthorizationException(403, '')"
     ]
    }
   ],
   "source": [
    "#print(top_videos)\n",
    "\n",
    "from opensearchpy import OpenSearch\n",
    "import pprint as pp\n",
    "\n",
    "\n",
    "host = 'api.novasearch.org'\n",
    "port = 443\n",
    "\n",
    "user = 'user01' # Add your user name here.\n",
    "password = 'erasmus+2025' # Add your user password here. For testing only. Don't store credentials in code. \n",
    "index_name = \"video\"\n",
    "\n",
    "client = OpenSearch(\n",
    "    hosts = [{'host': host, 'port': port}],\n",
    "    http_compress = True, # enables gzip compression for request bodies\n",
    "    http_auth = (user, password),\n",
    "    use_ssl = True,\n",
    "    url_prefix = 'opensearch_v2',\n",
    "    verify_certs = False,\n",
    "    ssl_assert_hostname = False,\n",
    "    ssl_show_warn = False\n",
    ")\n",
    "\n",
    "index_body = {\n",
    "   \"settings\":{\n",
    "      \"index\":{\n",
    "         \"number_of_replicas\":0,\n",
    "         \"number_of_shards\":4,\n",
    "         \"refresh_interval\":\"-1\",\n",
    "         \"knn\":\"true\"\n",
    "      }\n",
    "   },\n",
    "   \"mappings\":{\n",
    "       \"properties\": {\n",
    "            \"video_id\": {\"type\": \"keyword\"},\n",
    "            \"num_moments\": {\"type\": \"integer\"},\n",
    "            \"url\": {\"type\": \"text\"}\n",
    "        }\n",
    "   }\n",
    "}\n",
    "\n",
    "if client.indices.exists(index=index_name):\n",
    "    print(\"Index already existed. Nothing to be done.\")\n",
    "else:        \n",
    "    response = client.indices.create(index_name, body=index_body)\n",
    "    print('\\nCreating index:')\n",
    "    print(response)"
   ]
  },
  {
   "cell_type": "code",
   "execution_count": null,
   "metadata": {},
   "outputs": [],
   "source": [
    "video_annotations = [\n",
    "    {'video_id': 'o1WPnnvs00I', 'num_moments': 23, 'url': 'https://www.youtube.com/watch?v=o1WPnnvs00I'},\n",
    "    {'video_id': 'oGwn4NUeoy8', 'num_moments': 23, 'url': 'https://www.youtube.com/watch?v=oGwn4NUeoy8'},\n",
    "    {'video_id': 'VEDRmPt_-Ms', 'num_moments': 20, 'url': 'https://www.youtube.com/watch?v=VEDRmPt_-Ms'},\n",
    "    {'video_id': 'qF3EbR8y8go', 'num_moments': 19, 'url': 'https://www.youtube.com/watch?v=qF3EbR8y8go'},\n",
    "    {'video_id': 'DLJqhYP-C0k', 'num_moments': 18, 'url': 'https://www.youtube.com/watch?v=DLJqhYP-C0k'},\n",
    "    {'video_id': 't6f_O8a4sSg', 'num_moments': 18, 'url': 'https://www.youtube.com/watch?v=t6f_O8a4sSg'},\n",
    "    {'video_id': '6gyD-Mte2ZM', 'num_moments': 18, 'url': 'https://www.youtube.com/watch?v=6gyD-Mte2ZM'},\n",
    "    {'video_id': 'jBvGvVw3R-Q', 'num_moments': 18, 'url': 'https://www.youtube.com/watch?v=jBvGvVw3R-Q'},\n",
    "    {'video_id': 'PJ72Yl0B1rY', 'num_moments': 17, 'url': 'https://www.youtube.com/watch?v=PJ72Yl0B1rY'},\n",
    "    {'video_id': 'QHn9KyE-zZo', 'num_moments': 17, 'url': 'https://www.youtube.com/watch?v=QHn9KyE-zZo'},\n",
    "    {'video_id': '9-yueOtwiL8', 'num_moments': 17, 'url': 'https://www.youtube.com/watch?v=9-yueOtwiL8'}\n",
    "]\n",
    "\n",
    "for video in video_annotations:\n",
    "    client.index(index=index_name, body=video)"
   ]
  },
  {
   "cell_type": "code",
   "execution_count": null,
   "metadata": {},
   "outputs": [],
   "source": [
    "response = client.search(\n",
    "    index=index_name,\n",
    "    body={\n",
    "        \"query\": {\n",
    "            \"match_all\": {}\n",
    "        }\n",
    "    }\n",
    ")\n",
    "\n",
    "print(response[\"hits\"][\"hits\"])"
   ]
  },
  {
   "cell_type": "markdown",
   "metadata": {},
   "source": [
    "## Video captions\n",
    "\n",
    "The ActivityNetCaptions dataset https://cs.stanford.edu/people/ranjaykrishna/densevid/ dataset provides a textual description of each videos. Index the video captions on a text field of your OpenSearch index."
   ]
  }
 ],
 "metadata": {
  "kernelspec": {
   "display_name": "nlp-cv-ir",
   "language": "python",
   "name": "python3"
  },
  "language_info": {
   "codemirror_mode": {
    "name": "ipython",
    "version": 3
   },
   "file_extension": ".py",
   "mimetype": "text/x-python",
   "name": "python",
   "nbconvert_exporter": "python",
   "pygments_lexer": "ipython3",
   "version": "3.9.21"
  }
 },
 "nbformat": 4,
 "nbformat_minor": 2
}
